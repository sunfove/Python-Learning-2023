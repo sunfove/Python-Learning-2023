{
 "cells": [
  {
   "cell_type": "code",
   "execution_count": 7,
   "metadata": {
    "collapsed": true
   },
   "outputs": [
    {
     "name": "stdout",
     "output_type": "stream",
     "text": [
      "I am running\n",
      "I am climing\n"
     ]
    }
   ],
   "source": [
    "class Turtle:\n",
    "    # python中类名称首字母大写\n",
    "    # 特征的描述称为属性\n",
    "    color = \"green\"\n",
    "    weitght = 10\n",
    "    height = 4\n",
    "\n",
    "    # 方法就是函数\n",
    "    def clim(self):\n",
    "        print('I am climing')\n",
    "    def run(self):\n",
    "        print(\"I am running\")\n",
    "\n",
    "\n",
    "tt = Turtle()\n",
    "tt.run()\n",
    "tt.clim()"
   ]
  },
  {
   "cell_type": "code",
   "execution_count": 1,
   "outputs": [
    {
     "name": "stdout",
     "output_type": "stream",
     "text": [
      "我叫ff， 谁踢我\n",
      "我叫dd， 谁踢我\n"
     ]
    }
   ],
   "source": [
    "class Ball:\n",
    "    def setName(self,name):\n",
    "        self.name = name\n",
    "    def kick(self):\n",
    "        print(\"我叫%s， 谁踢我\" % self.name)\n",
    "\n",
    "a = Ball()\n",
    "a.setName(\"ff\")\n",
    "a.kick()\n",
    "a = Ball()\n",
    "a.setName(\"dd\")\n",
    "a.kick()\n",
    "\n"
   ],
   "metadata": {
    "collapsed": false
   }
  },
  {
   "cell_type": "code",
   "execution_count": 2,
   "outputs": [
    {
     "name": "stdout",
     "output_type": "stream",
     "text": [
      "kick yourself, uiui\n"
     ]
    }
   ],
   "source": [
    "class Potato:\n",
    "    def __init__(self,name):\n",
    "        self.name = name\n",
    "    def kick(self):\n",
    "        print(\"kick yourself, %s\" % self.name)\n",
    "\n",
    "p = Potato(\"uiui\")\n",
    "p.kick()"
   ],
   "metadata": {
    "collapsed": false
   }
  },
  {
   "cell_type": "code",
   "execution_count": 20,
   "outputs": [
    {
     "ename": "AttributeError",
     "evalue": "'Person' object has no attribute 'name'",
     "output_type": "error",
     "traceback": [
      "\u001B[1;31m---------------------------------------------------------------------------\u001B[0m",
      "\u001B[1;31mAttributeError\u001B[0m                            Traceback (most recent call last)",
      "Input \u001B[1;32mIn [20]\u001B[0m, in \u001B[0;36m<cell line: 5>\u001B[1;34m()\u001B[0m\n\u001B[0;32m      2\u001B[0m \u001B[38;5;28;01mclass\u001B[39;00m \u001B[38;5;21;01mPerson\u001B[39;00m:\n\u001B[0;32m      3\u001B[0m     __name \u001B[38;5;241m=\u001B[39m \u001B[38;5;124m\"\u001B[39m\u001B[38;5;124msun\u001B[39m\u001B[38;5;124m\"\u001B[39m\n\u001B[1;32m----> 5\u001B[0m \u001B[38;5;28mprint\u001B[39m(\u001B[43mPerson\u001B[49m\u001B[43m(\u001B[49m\u001B[43m)\u001B[49m\u001B[38;5;241;43m.\u001B[39;49m\u001B[43mname\u001B[49m)\n",
      "\u001B[1;31mAttributeError\u001B[0m: 'Person' object has no attribute 'name'"
     ]
    }
   ],
   "source": [
    "# 公有和私有\n",
    "class Person:\n",
    "    __name = \"sun\"\n",
    "\n",
    "print(Person().name)\n"
   ],
   "metadata": {
    "collapsed": false
   }
  },
  {
   "cell_type": "code",
   "execution_count": 37,
   "outputs": [
    {
     "name": "stdout",
     "output_type": "stream",
     "text": [
      "hello\n",
      "hello\n"
     ]
    }
   ],
   "source": [
    "# 公有和私有\n",
    "class Person:\n",
    "    def __init__(self,name):\n",
    "        self.__name = name\n",
    "    def getName(self):\n",
    "        return self.__name\n",
    "\n",
    "p = Person(\"hello\")\n",
    "# print(p.__name)\n",
    "print(p.getName())\n",
    "print(p._Person__name)"
   ],
   "metadata": {
    "collapsed": false
   }
  },
  {
   "cell_type": "code",
   "execution_count": 5,
   "outputs": [
    {
     "name": "stdout",
     "output_type": "stream",
     "text": [
      "正在调用父类的方法...\n",
      "正在调用父类的方法...\n"
     ]
    }
   ],
   "source": [
    "# 继承\n",
    "class Parent:\n",
    "    def hello(self):\n",
    "        print(\"正在调用父类的方法...\")\n",
    "\n",
    "class Child(Parent):\n",
    "    pass\n",
    "\n",
    "p = Parent()\n",
    "p.hello()\n",
    "\n",
    "c = Child()\n",
    "c.hello()\n"
   ],
   "metadata": {
    "collapsed": false
   }
  },
  {
   "cell_type": "code",
   "execution_count": 7,
   "outputs": [
    {
     "name": "stdout",
     "output_type": "stream",
     "text": [
      "正在调用父类的方法...\n",
      "正在调用子类的方法...\n"
     ]
    }
   ],
   "source": [
    "# 继承\n",
    "class Parent:\n",
    "    def hello(self):\n",
    "        print(\"正在调用父类的方法...\")\n",
    "\n",
    "class Child(Parent):\n",
    "    def hello(self):\n",
    "        print(\"正在调用子类的方法...\")\n",
    "\n",
    "p = Parent()\n",
    "p.hello()\n",
    "\n",
    "c = Child()\n",
    "c.hello()"
   ],
   "metadata": {
    "collapsed": false
   }
  }
 ],
 "metadata": {
  "kernelspec": {
   "display_name": "Python 3",
   "language": "python",
   "name": "python3"
  },
  "language_info": {
   "codemirror_mode": {
    "name": "ipython",
    "version": 2
   },
   "file_extension": ".py",
   "mimetype": "text/x-python",
   "name": "python",
   "nbconvert_exporter": "python",
   "pygments_lexer": "ipython2",
   "version": "2.7.6"
  }
 },
 "nbformat": 4,
 "nbformat_minor": 0
}
