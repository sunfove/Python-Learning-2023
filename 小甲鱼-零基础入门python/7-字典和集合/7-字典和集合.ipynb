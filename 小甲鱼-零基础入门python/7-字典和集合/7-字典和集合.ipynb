{
 "cells": [
  {
   "cell_type": "code",
   "execution_count": 9,
   "metadata": {
    "collapsed": true
   },
   "outputs": [
    {
     "name": "stdout",
     "output_type": "stream",
     "text": [
      "{'A': 23, 'V': 35, 'D': 67}\n",
      "A -> 23\n",
      "V -> 35\n",
      "D -> 67\n"
     ]
    }
   ],
   "source": [
    "# 字典的常用创建形式1\n",
    "d1 = {\"A\":23,\"V\":35,\"D\":67}\n",
    "print(d1)\n",
    "for each in d1:\n",
    "    print(\"%s -> %s\" % (each,d1[each]))\n"
   ]
  },
  {
   "cell_type": "code",
   "execution_count": 21,
   "outputs": [
    {
     "name": "stdout",
     "output_type": "stream",
     "text": [
      "{'A': 7, 'B': 6}\n"
     ]
    }
   ],
   "source": [
    "# 字典的常用创建形式2:列表或元组都可以实现用dict创建字典\n",
    "# d2 = dict(((\"A\",7),(\"B\",6)))\n",
    "d2 = dict([(\"A\",7),(\"B\",6)])\n",
    "print(d2)"
   ],
   "metadata": {
    "collapsed": false
   }
  },
  {
   "cell_type": "code",
   "execution_count": 31,
   "outputs": [
    {
     "name": "stdout",
     "output_type": "stream",
     "text": [
      "{'A': 1, 'B': 2, 'C': 4}\n",
      "A = 1\n"
     ]
    }
   ],
   "source": [
    "# 字典的常用创建形式3\n",
    "d3 = dict(A=1,B=2,C=4)\n",
    "print(d3)\n",
    "\n",
    "# 字典元素提取，以[]提取，()会报错\n",
    "print(\"A =\",d3['A'])"
   ],
   "metadata": {
    "collapsed": false
   }
  },
  {
   "cell_type": "code",
   "execution_count": 37,
   "outputs": [
    {
     "name": "stdout",
     "output_type": "stream",
     "text": [
      "{'A': 1, 'B': 2, 'C': 4}\n"
     ]
    },
    {
     "data": {
      "text/plain": "True"
     },
     "execution_count": 37,
     "metadata": {},
     "output_type": "execute_result"
    }
   ],
   "source": [
    "# 字典的常用创建形式4\n",
    "d4 = dict(zip([\"A\",\"B\",\"C\"],[1,2,4]))\n",
    "print(d4)\n",
    "d4==d3"
   ],
   "metadata": {
    "collapsed": false
   }
  },
  {
   "cell_type": "code",
   "execution_count": 41,
   "outputs": [
    {
     "name": "stdout",
     "output_type": "stream",
     "text": [
      "{'A': 1, 'B': 2}\n",
      "{'A': 1, 'B': 4}\n"
     ]
    }
   ],
   "source": [
    "# 字典的常用创建形式4\n",
    "d5 = dict({'A':1,'B':2})\n",
    "print(d5)\n",
    "d5['B'] = 4\n",
    "print(d5)"
   ],
   "metadata": {
    "collapsed": false
   }
  },
  {
   "cell_type": "code",
   "execution_count": 48,
   "outputs": [
    {
     "name": "stdout",
     "output_type": "stream",
     "text": [
      "dict_keys(['A', 'B'])\n",
      "dict_values([7, 6])\n",
      "dict_items([('A', 7), ('B', 6)])\n"
     ]
    },
    {
     "data": {
      "text/plain": "'none'"
     },
     "execution_count": 48,
     "metadata": {},
     "output_type": "execute_result"
    }
   ],
   "source": [
    "print(d2.keys())\n",
    "print(d2.values())\n",
    "print(d2.items())\n",
    "d3.get(3,\"none\")"
   ],
   "metadata": {
    "collapsed": false
   }
  },
  {
   "cell_type": "code",
   "execution_count": 52,
   "outputs": [
    {
     "name": "stdout",
     "output_type": "stream",
     "text": [
      "{'A': 23, 'V': 35, 'D': 67}\n",
      "{'A': 23, 'V': 35, 'D': 67}\n"
     ]
    }
   ],
   "source": [
    "b=d1.copy()\n",
    "print(b)\n",
    "c = d1\n",
    "print(c)"
   ],
   "metadata": {
    "collapsed": false
   }
  },
  {
   "cell_type": "code",
   "execution_count": 56,
   "outputs": [
    {
     "name": "stdout",
     "output_type": "stream",
     "text": [
      "{'a': 1, 'b': 2, 'c': 3}\n"
     ]
    }
   ],
   "source": [
    "def test(**parameter):\n",
    "    print(parameter)\n",
    "\n",
    "test(a=1,b=2,c=3)"
   ],
   "metadata": {
    "collapsed": false
   }
  },
  {
   "cell_type": "code",
   "execution_count": 64,
   "outputs": [
    {
     "name": "stdout",
     "output_type": "stream",
     "text": [
      "{1, 2, 3}\n"
     ]
    },
    {
     "data": {
      "text/plain": "True"
     },
     "execution_count": 64,
     "metadata": {},
     "output_type": "execute_result"
    }
   ],
   "source": [
    "# 集合\n",
    "a = set([1,2,3])\n",
    "print(a)\n",
    "b = {1,3,2}\n",
    "a==b"
   ],
   "metadata": {
    "collapsed": false
   }
  },
  {
   "cell_type": "code",
   "execution_count": null,
   "outputs": [],
   "source": [],
   "metadata": {
    "collapsed": false
   }
  }
 ],
 "metadata": {
  "kernelspec": {
   "display_name": "Python 3",
   "language": "python",
   "name": "python3"
  },
  "language_info": {
   "codemirror_mode": {
    "name": "ipython",
    "version": 2
   },
   "file_extension": ".py",
   "mimetype": "text/x-python",
   "name": "python",
   "nbconvert_exporter": "python",
   "pygments_lexer": "ipython2",
   "version": "2.7.6"
  }
 },
 "nbformat": 4,
 "nbformat_minor": 0
}
