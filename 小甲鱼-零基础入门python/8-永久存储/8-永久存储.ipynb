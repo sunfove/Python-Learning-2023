{
 "cells": [
  {
   "cell_type": "code",
   "execution_count": 38,
   "metadata": {
    "collapsed": true
   },
   "outputs": [],
   "source": [
    "f = open(r\"record2.txt\",'r',encoding='utf-8')\n",
    "# f.seek(0,0)\n",
    "# f.readline()\n",
    "# print(f.read())\n",
    "f1 = open(\"boy.txt\",\"a\",encoding=\"utf-8\")\n",
    "f2 = open(\"girl.txt\",\"a\",encoding=\"utf-8\")\n",
    "\n",
    "for i in f:\n",
    "    if \"小客服:\" in i:\n",
    "        # print(i)\n",
    "        f2.write(i)\n",
    "    elif \"小客服:\" in i:\n",
    "        f1.write(i)\n",
    "\n",
    "\n",
    "\n",
    "f.close()\n",
    "f1.close()\n",
    "f2.close()"
   ]
  }
 ],
 "metadata": {
  "kernelspec": {
   "display_name": "Python 3",
   "language": "python",
   "name": "python3"
  },
  "language_info": {
   "codemirror_mode": {
    "name": "ipython",
    "version": 2
   },
   "file_extension": ".py",
   "mimetype": "text/x-python",
   "name": "python",
   "nbconvert_exporter": "python",
   "pygments_lexer": "ipython2",
   "version": "2.7.6"
  }
 },
 "nbformat": 4,
 "nbformat_minor": 0
}
