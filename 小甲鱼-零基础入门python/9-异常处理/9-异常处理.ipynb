{
 "cells": [
  {
   "cell_type": "code",
   "execution_count": 7,
   "outputs": [
    {
     "ename": "AssertionError",
     "evalue": "",
     "output_type": "error",
     "traceback": [
      "\u001B[1;31m---------------------------------------------------------------------------\u001B[0m",
      "\u001B[1;31mAssertionError\u001B[0m                            Traceback (most recent call last)",
      "Input \u001B[1;32mIn [7]\u001B[0m, in \u001B[0;36m<cell line: 4>\u001B[1;34m()\u001B[0m\n\u001B[0;32m      2\u001B[0m \u001B[38;5;28;01massert\u001B[39;00m \u001B[38;5;28mlen\u001B[39m(mylist)\u001B[38;5;241m>\u001B[39m\u001B[38;5;241m0\u001B[39m\n\u001B[0;32m      3\u001B[0m mylist\u001B[38;5;241m.\u001B[39mpop()\n\u001B[1;32m----> 4\u001B[0m \u001B[38;5;28;01massert\u001B[39;00m \u001B[38;5;28mlen\u001B[39m(mylist)\u001B[38;5;241m>\u001B[39m\u001B[38;5;241m0\u001B[39m\n",
      "\u001B[1;31mAssertionError\u001B[0m: "
     ]
    }
   ],
   "source": [
    "mylist = [\"B\"]\n",
    "assert len(mylist)>0\n",
    "mylist.pop()\n",
    "assert len(mylist)>0"
   ],
   "metadata": {
    "collapsed": false
   }
  },
  {
   "cell_type": "code",
   "execution_count": 19,
   "outputs": [
    {
     "name": "stdout",
     "output_type": "stream",
     "text": [
      "B name 'a' is not defined\n"
     ]
    }
   ],
   "source": [
    "try:\n",
    "    print(a)\n",
    "except OSError as reason:\n",
    "    print(\"A\")\n",
    "except (NameError,OSError) as reason:\n",
    "    print(\"B\",str(reason))"
   ],
   "metadata": {
    "collapsed": false
   }
  },
  {
   "cell_type": "code",
   "execution_count": 24,
   "outputs": [
    {
     "name": "stdout",
     "output_type": "stream",
     "text": [
      "2\n",
      "没有异常\n"
     ]
    }
   ],
   "source": [
    "try:\n",
    "    print(2)\n",
    "except OSError as reason:\n",
    "    print(\"A\")\n",
    "except (NameError,OSError) as reason:\n",
    "    print(\"B\",str(reason))\n",
    "else:\n",
    "    print(\"没有异常\")\n"
   ],
   "metadata": {
    "collapsed": false
   }
  },
  {
   "cell_type": "code",
   "execution_count": 25,
   "outputs": [
    {
     "ename": "ZeroDivisionError",
     "evalue": "",
     "output_type": "error",
     "traceback": [
      "\u001B[1;31m---------------------------------------------------------------------------\u001B[0m",
      "\u001B[1;31mZeroDivisionError\u001B[0m                         Traceback (most recent call last)",
      "Input \u001B[1;32mIn [25]\u001B[0m, in \u001B[0;36m<cell line: 1>\u001B[1;34m()\u001B[0m\n\u001B[1;32m----> 1\u001B[0m \u001B[38;5;28;01mraise\u001B[39;00m \u001B[38;5;167;01mZeroDivisionError\u001B[39;00m\n",
      "\u001B[1;31mZeroDivisionError\u001B[0m: "
     ]
    }
   ],
   "source": [
    "# 利用raise抛出异常\n",
    "raise ZeroDivisionError"
   ],
   "metadata": {
    "collapsed": false
   }
  },
  {
   "cell_type": "code",
   "execution_count": 29,
   "outputs": [
    {
     "name": "stdout",
     "output_type": "stream",
     "text": [
      "wrong not readable\n"
     ]
    }
   ],
   "source": [
    "# 利用with语句\n",
    "try:\n",
    "    with open('data.txt','w') as f:\n",
    "        for each in f:\n",
    "            print(each)\n",
    "except OSError as reason:\n",
    "    print(\"wrong \"+str(reason))"
   ],
   "metadata": {
    "collapsed": false
   }
  },
  {
   "cell_type": "code",
   "execution_count": null,
   "outputs": [],
   "source": [],
   "metadata": {
    "collapsed": false
   }
  }
 ],
 "metadata": {
  "kernelspec": {
   "display_name": "Python 3",
   "language": "python",
   "name": "python3"
  },
  "language_info": {
   "codemirror_mode": {
    "name": "ipython",
    "version": 2
   },
   "file_extension": ".py",
   "mimetype": "text/x-python",
   "name": "python",
   "nbconvert_exporter": "python",
   "pygments_lexer": "ipython2",
   "version": "2.7.6"
  }
 },
 "nbformat": 4,
 "nbformat_minor": 0
}
