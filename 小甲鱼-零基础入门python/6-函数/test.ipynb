{
 "cells": [
  {
   "cell_type": "code",
   "execution_count": 92,
   "metadata": {
    "collapsed": true
   },
   "outputs": [
    {
     "name": "stdout",
     "output_type": "stream",
     "text": [
      "11\n",
      "11\n"
     ]
    }
   ],
   "source": [
    "# lambda创建匿名函数\n",
    "# 常规函数书写方式\n",
    "def ds(x):\n",
    "    return x*2+1\n",
    "\n",
    "print(ds(5))\n",
    "\n",
    "# 匿名函数方式\n",
    "g = lambda x:x*2+1\n",
    "print(g(5))"
   ]
  },
  {
   "cell_type": "code",
   "execution_count": 93,
   "outputs": [
    {
     "name": "stdout",
     "output_type": "stream",
     "text": [
      "[1, 3, 5, 7, 9]\n"
     ]
    }
   ],
   "source": [
    "# filter函数\n",
    "def odd(x):\n",
    "    return x%2\n",
    "# t = odd(10)\n",
    "# print(t)\n",
    "temp = filter(odd,range(10))\n",
    "t = list(temp)\n",
    "print(t)"
   ],
   "metadata": {
    "collapsed": false
   }
  },
  {
   "cell_type": "markdown",
   "source": [],
   "metadata": {
    "collapsed": false
   }
  },
  {
   "cell_type": "code",
   "execution_count": 94,
   "outputs": [
    {
     "name": "stdout",
     "output_type": "stream",
     "text": [
      "(0, 1, 2, 3, 4, 5, 6, 7, 8, 9)\n"
     ]
    }
   ],
   "source": [
    "print(tuple(range(10)))\n"
   ],
   "metadata": {
    "collapsed": false
   }
  },
  {
   "cell_type": "code",
   "execution_count": 95,
   "outputs": [
    {
     "name": "stdout",
     "output_type": "stream",
     "text": [
      "[0, 1, 0, 1, 0, 1, 0, 1, 0, 1]\n",
      "[0, 2, 8, 15, 24]\n"
     ]
    }
   ],
   "source": [
    "# map函数 映射函数\n",
    "# 单一参数\n",
    "print(list(map(lambda x:x%2,range(10))))\n",
    "# 两个参数，第二个是收集参数\n",
    "print(list(map(lambda x,y:x*y,range(10),[1,2,4,5,6])))\n"
   ],
   "metadata": {
    "collapsed": false
   }
  },
  {
   "cell_type": "code",
   "execution_count": 96,
   "outputs": [
    {
     "name": "stdout",
     "output_type": "stream",
     "text": [
      "2432902008176640000\n",
      "2432902008176640000\n",
      "2432902008176640000\n"
     ]
    }
   ],
   "source": [
    "# 递归函数案例1：阶乘\n",
    "# 通过非递归的方式实现阶乘\n",
    "def jiecheng(num):\n",
    "    r = 1\n",
    "    for i in range(num):\n",
    "        r = r*(i+1)\n",
    "    return r\n",
    "\n",
    "print(jiecheng(20))\n",
    "\n",
    "def factorial(n):\n",
    "    result = n\n",
    "    for i in range(1,n):\n",
    "        result *= i\n",
    "    return result\n",
    "\n",
    "print(factorial(20))\n",
    "\n",
    "# 通过递归的方式实现阶乘\n",
    "def recursion(n):\n",
    "    if n > 1:\n",
    "        return  n*recursion(n-1)\n",
    "    else:\n",
    "        return 1\n",
    "\n",
    "print(recursion(20))\n"
   ],
   "metadata": {
    "collapsed": false
   }
  },
  {
   "cell_type": "code",
   "execution_count": 97,
   "outputs": [
    {
     "name": "stdout",
     "output_type": "stream",
     "text": [
      "144\n"
     ]
    }
   ],
   "source": [
    "# 递归案例2：斐波那契数列\n",
    "def fab(n):\n",
    "    if n>2:\n",
    "        return fab(n-1)+fab(n-2)\n",
    "    else:\n",
    "        return 1\n",
    "\n",
    "print(fab(12))"
   ],
   "metadata": {
    "collapsed": false
   }
  },
  {
   "cell_type": "code",
   "execution_count": 98,
   "outputs": [
    {
     "name": "stdout",
     "output_type": "stream",
     "text": [
      "a -> c\n",
      "a -> b\n"
     ]
    }
   ],
   "source": [
    "# 递归案例3：汉诺塔\n",
    "def hannuo(n):\n",
    "    if n%2 == 1:\n",
    "        # print(A,\"->\",B)\n",
    "        A = \"c\"\n",
    "        B = \"a\"\n",
    "        C = \"b\"\n",
    "        print(B,\"->\",C)\n",
    "        if n==1:\n",
    "            return\n",
    "        else:\n",
    "            return hannuo(n-1)\n",
    "    else:\n",
    "        # print(A,\"->\",C)\n",
    "        A = \"b\"\n",
    "        B = \"c\"\n",
    "        C = \"a\"\n",
    "        print(C,\"->\",B)\n",
    "        return hannuo(n-1)\n",
    "    if n==1:\n",
    "        return\n",
    "\n",
    "\n",
    "\n",
    "hannuo(2)"
   ],
   "metadata": {
    "collapsed": false
   }
  },
  {
   "cell_type": "code",
   "execution_count": 99,
   "outputs": [
    {
     "name": "stdout",
     "output_type": "stream",
     "text": [
      "A -> B\n",
      "A -> B\n",
      "C -> A\n",
      "C -> B\n",
      "A -> B\n"
     ]
    }
   ],
   "source": [
    "def hannuo2(n,A,B,C):\n",
    "\n",
    "    print(A,\"->\",B)\n",
    "    if n%2==1:\n",
    "\n",
    "        if n==1:\n",
    "            return\n",
    "        else:\n",
    "            print(A,\"->\",B)\n",
    "            # print(A,\"->\",C)\n",
    "            # return hannuo2(n-1,B,C,A)\n",
    "            return hannuo2(n-1,C,A,B)\n",
    "    else:\n",
    "        print(A,\"->\",C)\n",
    "        # return hannuo2(n-1,C,A,B)\n",
    "        return hannuo2(n-1,B,C,A)\n",
    "\n",
    "\n",
    "hannuo2(3,\"A\",\"B\",\"C\")\n"
   ],
   "metadata": {
    "collapsed": false
   }
  },
  {
   "cell_type": "code",
   "execution_count": 100,
   "outputs": [
    {
     "name": "stdout",
     "output_type": "stream",
     "text": [
      "3\n",
      "2\n",
      "1\n"
     ]
    }
   ],
   "source": [
    "def hannuo2(n,A,B,C):\n",
    "\n",
    "    if n%2==1:\n",
    "        # print(A,\"->\",B)\n",
    "        print(n)\n",
    "        if n==1:\n",
    "            return\n",
    "        else:\n",
    "            # print(C,\"->\",B)\n",
    "            return hannuo2(n-1,C,A,B)\n",
    "            # return 1\n",
    "    else:\n",
    "        # print(A,\"->\",B)\n",
    "        # print(A,\"->\",C)\n",
    "        print(n)\n",
    "        # return hannuo2(n-1,C,A,B)\n",
    "        return hannuo2(n-1,B,C,A)\n",
    "\n",
    "\n",
    "hannuo2(3,\"A\",\"B\",\"C\")"
   ],
   "metadata": {
    "collapsed": false
   }
  },
  {
   "cell_type": "code",
   "execution_count": 101,
   "outputs": [
    {
     "data": {
      "text/plain": "('A', 'B')"
     },
     "execution_count": 101,
     "metadata": {},
     "output_type": "execute_result"
    }
   ],
   "source": [
    "def hannuo3(n,A,B,C):\n",
    "    if n==1:\n",
    "        return (A,B)\n",
    "\n",
    "    elif n%2==0:\n",
    "         return (hannuo3(n-1,A,B,C))\n",
    "\n",
    "hannuo3(2,\"A\",\"B\",\"C\")\n"
   ],
   "metadata": {
    "collapsed": false
   }
  },
  {
   "cell_type": "code",
   "execution_count": 102,
   "outputs": [
    {
     "name": "stdout",
     "output_type": "stream",
     "text": [
      "12\n"
     ]
    }
   ],
   "source": [
    "def test(n):\n",
    "    if n==1:\n",
    "        return\n",
    "    else:\n",
    "        test(n-1)\n",
    "    print(12)\n",
    "\n",
    "test(2)"
   ],
   "metadata": {
    "collapsed": false
   }
  },
  {
   "cell_type": "code",
   "execution_count": 105,
   "outputs": [
    {
     "name": "stdout",
     "output_type": "stream",
     "text": [
      "1\n",
      "2\n",
      "3\n"
     ]
    }
   ],
   "source": [
    "def fun(n,A,B,C):\n",
    "    if n == 1:\n",
    "        # print(A,B)\n",
    "        print(1)\n",
    "    elif n%2==1:\n",
    "        fun(n-1,C,A,B)\n",
    "        print(n)\n",
    "    elif n%2==0:\n",
    "        # print(A,\"->\",C)\n",
    "        fun(n-1,B,C,A)\n",
    "        print(n)\n",
    "\n",
    "    # print(A,\"->\",B)\n",
    "\n",
    "fun(3,\"A\",\"B\",\"C\")\n",
    "\n",
    "\n"
   ],
   "metadata": {
    "collapsed": false
   }
  },
  {
   "cell_type": "code",
   "execution_count": 5,
   "outputs": [
    {
     "name": "stdout",
     "output_type": "stream",
     "text": [
      "1\n",
      "3\n"
     ]
    }
   ],
   "source": [
    "def fu(n):\n",
    "    if n==1:\n",
    "        print(1)\n",
    "        return\n",
    "    fu(n-1)\n",
    "    return(n)\n",
    "\n",
    "print(fu(3))\n"
   ],
   "metadata": {
    "collapsed": false
   }
  },
  {
   "cell_type": "code",
   "execution_count": 20,
   "outputs": [
    {
     "name": "stdout",
     "output_type": "stream",
     "text": [
      "A -> C\n",
      "A -> B\n",
      "C -> B\n",
      "A -> C\n",
      "B -> A\n",
      "B -> C\n",
      "A -> C\n"
     ]
    }
   ],
   "source": [
    "# 通过递归方法实现汉诺塔问题，上面的系列尝试都有问题\n",
    "def hanoi(n,A=\"A\",B=\"B\",C=\"C\"):\n",
    "    if n==1:\n",
    "        # 将A移动到C\n",
    "        print(A,\"->\",C)\n",
    "    else:\n",
    "        # 通过C，将A移动到B\n",
    "        hanoi(n-1,A,C,B)\n",
    "        # 将最底部的盘从A移动到C\n",
    "        print(A,\"->\",C)\n",
    "        # 通过A，将B移动到C\n",
    "        hanoi(n-1,B,A,C)\n",
    "\n",
    "hanoi(3)"
   ],
   "metadata": {
    "collapsed": false
   }
  },
  {
   "cell_type": "code",
   "execution_count": 24,
   "outputs": [
    {
     "name": "stdout",
     "output_type": "stream",
     "text": [
      "2023年3月6日\n"
     ]
    }
   ],
   "source": [
    "print(\"2023年3月6日\")\n"
   ],
   "metadata": {
    "collapsed": false
   }
  },
  {
   "cell_type": "code",
   "execution_count": null,
   "outputs": [],
   "source": [],
   "metadata": {
    "collapsed": false
   }
  }
 ],
 "metadata": {
  "kernelspec": {
   "display_name": "Python 3",
   "language": "python",
   "name": "python3"
  },
  "language_info": {
   "codemirror_mode": {
    "name": "ipython",
    "version": 2
   },
   "file_extension": ".py",
   "mimetype": "text/x-python",
   "name": "python",
   "nbconvert_exporter": "python",
   "pygments_lexer": "ipython2",
   "version": "2.7.6"
  }
 },
 "nbformat": 4,
 "nbformat_minor": 0
}
