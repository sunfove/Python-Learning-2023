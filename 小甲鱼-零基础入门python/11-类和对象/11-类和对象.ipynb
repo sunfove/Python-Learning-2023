{
 "cells": [
  {
   "cell_type": "code",
   "execution_count": 7,
   "metadata": {
    "collapsed": true
   },
   "outputs": [
    {
     "name": "stdout",
     "output_type": "stream",
     "text": [
      "I am running\n",
      "I am climing\n"
     ]
    }
   ],
   "source": [
    "class Turtle:\n",
    "    # python中类名称首字母大写\n",
    "    # 特征的描述称为属性\n",
    "    color = \"green\"\n",
    "    weitght = 10\n",
    "    height = 4\n",
    "\n",
    "    # 方法就是函数\n",
    "    def clim(self):\n",
    "        print('I am climing')\n",
    "    def run(self):\n",
    "        print(\"I am running\")\n",
    "\n",
    "\n",
    "tt = Turtle()\n",
    "tt.run()\n",
    "tt.clim()"
   ]
  },
  {
   "cell_type": "code",
   "execution_count": 1,
   "outputs": [
    {
     "name": "stdout",
     "output_type": "stream",
     "text": [
      "我叫ff， 谁踢我\n",
      "我叫dd， 谁踢我\n"
     ]
    }
   ],
   "source": [
    "class Ball:\n",
    "    def setName(self,name):\n",
    "        self.name = name\n",
    "    def kick(self):\n",
    "        print(\"我叫%s， 谁踢我\" % self.name)\n",
    "\n",
    "a = Ball()\n",
    "a.setName(\"ff\")\n",
    "a.kick()\n",
    "a = Ball()\n",
    "a.setName(\"dd\")\n",
    "a.kick()\n",
    "\n"
   ],
   "metadata": {
    "collapsed": false
   }
  },
  {
   "cell_type": "code",
   "execution_count": 2,
   "outputs": [
    {
     "name": "stdout",
     "output_type": "stream",
     "text": [
      "kick yourself, uiui\n"
     ]
    }
   ],
   "source": [
    "class Potato:\n",
    "    def __init__(self,name):\n",
    "        self.name = name\n",
    "    def kick(self):\n",
    "        print(\"kick yourself, %s\" % self.name)\n",
    "\n",
    "p = Potato(\"uiui\")\n",
    "p.kick()"
   ],
   "metadata": {
    "collapsed": false
   }
  },
  {
   "cell_type": "code",
   "execution_count": 20,
   "outputs": [
    {
     "ename": "AttributeError",
     "evalue": "'Person' object has no attribute 'name'",
     "output_type": "error",
     "traceback": [
      "\u001B[1;31m---------------------------------------------------------------------------\u001B[0m",
      "\u001B[1;31mAttributeError\u001B[0m                            Traceback (most recent call last)",
      "Input \u001B[1;32mIn [20]\u001B[0m, in \u001B[0;36m<cell line: 5>\u001B[1;34m()\u001B[0m\n\u001B[0;32m      2\u001B[0m \u001B[38;5;28;01mclass\u001B[39;00m \u001B[38;5;21;01mPerson\u001B[39;00m:\n\u001B[0;32m      3\u001B[0m     __name \u001B[38;5;241m=\u001B[39m \u001B[38;5;124m\"\u001B[39m\u001B[38;5;124msun\u001B[39m\u001B[38;5;124m\"\u001B[39m\n\u001B[1;32m----> 5\u001B[0m \u001B[38;5;28mprint\u001B[39m(\u001B[43mPerson\u001B[49m\u001B[43m(\u001B[49m\u001B[43m)\u001B[49m\u001B[38;5;241;43m.\u001B[39;49m\u001B[43mname\u001B[49m)\n",
      "\u001B[1;31mAttributeError\u001B[0m: 'Person' object has no attribute 'name'"
     ]
    }
   ],
   "source": [
    "# 公有和私有\n",
    "class Person:\n",
    "    __name = \"sun\"\n",
    "\n",
    "print(Person().name)\n"
   ],
   "metadata": {
    "collapsed": false
   }
  },
  {
   "cell_type": "code",
   "execution_count": 37,
   "outputs": [
    {
     "name": "stdout",
     "output_type": "stream",
     "text": [
      "hello\n",
      "hello\n"
     ]
    }
   ],
   "source": [
    "# 公有和私有\n",
    "class Person:\n",
    "    def __init__(self,name):\n",
    "        self.__name = name\n",
    "    def getName(self):\n",
    "        return self.__name\n",
    "\n",
    "p = Person(\"hello\")\n",
    "# print(p.__name)\n",
    "print(p.getName())\n",
    "print(p._Person__name)"
   ],
   "metadata": {
    "collapsed": false
   }
  },
  {
   "cell_type": "code",
   "execution_count": 5,
   "outputs": [
    {
     "name": "stdout",
     "output_type": "stream",
     "text": [
      "正在调用父类的方法...\n",
      "正在调用父类的方法...\n"
     ]
    }
   ],
   "source": [
    "# 继承\n",
    "class Parent:\n",
    "    def hello(self):\n",
    "        print(\"正在调用父类的方法...\")\n",
    "\n",
    "class Child(Parent):\n",
    "    pass\n",
    "\n",
    "p = Parent()\n",
    "p.hello()\n",
    "\n",
    "c = Child()\n",
    "c.hello()\n"
   ],
   "metadata": {
    "collapsed": false
   }
  },
  {
   "cell_type": "code",
   "execution_count": 1,
   "outputs": [
    {
     "name": "stdout",
     "output_type": "stream",
     "text": [
      "正在调用父类的方法...\n",
      "正在调用子类的方法...\n"
     ]
    }
   ],
   "source": [
    "# 继承\n",
    "class Parent:\n",
    "    def hello(self):\n",
    "        print(\"正在调用父类的方法...\")\n",
    "\n",
    "class Child(Parent):\n",
    "    def hello(self):\n",
    "        print(\"正在调用子类的方法...\")\n",
    "\n",
    "p = Parent()\n",
    "p.hello()\n",
    "\n",
    "c = Child()\n",
    "c.hello()"
   ],
   "metadata": {
    "collapsed": false,
    "ExecuteTime": {
     "start_time": "2023-04-11T23:25:24.136030Z",
     "end_time": "2023-04-11T23:25:24.155977Z"
    }
   }
  },
  {
   "cell_type": "code",
   "execution_count": 28,
   "outputs": [],
   "source": [
    "# 继承\n",
    "import random as r\n",
    "\n",
    "class Fish:\n",
    "    def __init__(self):\n",
    "        self.x = r.randint(0,10)\n",
    "        self.y = r.randint(0,10)\n",
    "\n",
    "    def move(self):\n",
    "        self.x -= -1\n",
    "        print(\"我的位置是： \",self.x,self.y)\n",
    "\n",
    "class Goldfish(Fish):\n",
    "    pass\n",
    "\n",
    "class Carp(Fish):\n",
    "    pass\n",
    "\n",
    "class Salmon(Fish):\n",
    "    pass\n",
    "\n",
    "class Shark(Salmon):\n",
    "    def __init__(self):\n",
    "        super().__init__()\n",
    "        self.hungry = True\n",
    "\n",
    "    def eat(self):\n",
    "        if self.hungry:\n",
    "            print(\" I want  to eat\")\n",
    "            self.hungry = False\n",
    "        else:\n",
    "            print(\"I am full\")\n",
    "\n",
    "\n",
    "\n"
   ],
   "metadata": {
    "collapsed": false,
    "ExecuteTime": {
     "start_time": "2023-04-11T23:38:48.326850Z",
     "end_time": "2023-04-11T23:38:48.336824Z"
    }
   }
  },
  {
   "cell_type": "code",
   "execution_count": 29,
   "outputs": [
    {
     "name": "stdout",
     "output_type": "stream",
     "text": [
      "我的位置是：  11 2\n",
      "11 2\n",
      "我的位置是：  12 2\n",
      " I want  to eat\n",
      "I am full\n",
      "我的位置是：  2 2\n"
     ]
    }
   ],
   "source": [
    "fish = Fish()\n",
    "fish.move()\n",
    "print(fish.x,fish.y)\n",
    "fish.move()\n",
    "shark = Shark()\n",
    "shark.eat()\n",
    "shark.eat()\n",
    "shark.move()"
   ],
   "metadata": {
    "collapsed": false,
    "ExecuteTime": {
     "start_time": "2023-04-11T23:38:50.265954Z",
     "end_time": "2023-04-11T23:38:50.279937Z"
    }
   }
  },
  {
   "cell_type": "code",
   "execution_count": 42,
   "outputs": [
    {
     "name": "stdout",
     "output_type": "stream",
     "text": [
      "A\n",
      "A\n",
      "AB\n"
     ]
    }
   ],
   "source": [
    "# 多重继承\n",
    "class Base1:\n",
    "    def foo1(self):\n",
    "        print(\"A\")\n",
    "\n",
    "class Base2:\n",
    "    def foo2(self):\n",
    "        print(\"AB\")\n",
    "\n",
    "class Base3(Base1,Base2):\n",
    "    pass\n",
    "\n",
    "A = Base1()\n",
    "A.foo1()\n",
    "C = Base3()\n",
    "C.foo1()\n",
    "C.foo2()\n",
    "\n"
   ],
   "metadata": {
    "collapsed": false,
    "ExecuteTime": {
     "start_time": "2023-04-11T23:46:46.549384Z",
     "end_time": "2023-04-11T23:46:46.554404Z"
    }
   }
  },
  {
   "cell_type": "code",
   "execution_count": 48,
   "outputs": [
    {
     "name": "stdout",
     "output_type": "stream",
     "text": [
      "水池中一共有2只乌龟和10只金鱼\n",
      "<__main__.Turtle object at 0x000001DCA3838A30>\n",
      "<class '__main__.Turtle'>\n"
     ]
    }
   ],
   "source": [
    "# 组合\n",
    "class Turtle:\n",
    "    def __init__(self,x):\n",
    "        self.num = x\n",
    "\n",
    "class Fish:\n",
    "    def __init__(self,x):\n",
    "        self.num = x\n",
    "\n",
    "class Pool:\n",
    "    def __init__(self,x,y):\n",
    "        self.turtle = Turtle(x)\n",
    "        self.fish = Fish(y)\n",
    "\n",
    "    def print_num(self):\n",
    "        print(\"水池中一共有%d只乌龟和%d只金鱼\"%(self.turtle.num,self.fish.num))\n",
    "        print(self.turtle)\n",
    "        print(type(self.turtle))\n",
    "\n",
    "pool = Pool(2,10)\n",
    "pool.print_num()\n",
    "\n"
   ],
   "metadata": {
    "collapsed": false,
    "ExecuteTime": {
     "start_time": "2023-04-11T23:53:03.795166Z",
     "end_time": "2023-04-11T23:53:03.843065Z"
    }
   }
  },
  {
   "cell_type": "code",
   "execution_count": 22,
   "outputs": [
    {
     "name": "stdout",
     "output_type": "stream",
     "text": [
      "0 0 0\n",
      "0 0 10\n",
      "10 10 10\n",
      "XXX\n",
      "1\n",
      "YYY\n",
      "YYY\n"
     ]
    }
   ],
   "source": [
    "# 类、类的对象和实例\n",
    "class C:\n",
    "    count = 0\n",
    "    def x(self):\n",
    "        print(\"XXX\")\n",
    "    def y(self):\n",
    "        print(\"YYY\")\n",
    "a = C()\n",
    "b = C()\n",
    "c = C()\n",
    "print(a.count,b.count,c.count)\n",
    "\n",
    "c.count = 10\n",
    "print(a.count,b.count,c.count)\n",
    "\n",
    "C.count = 10\n",
    "print(a.count,b.count,c.count)\n",
    "\n",
    "a.x()\n",
    "\n",
    "a.x = 1\n",
    "# a.x()\n",
    "print(a.x)\n",
    "\n",
    "C.y(1)\n",
    "a.y()"
   ],
   "metadata": {
    "collapsed": false,
    "ExecuteTime": {
     "start_time": "2023-04-12T22:09:43.364202Z",
     "end_time": "2023-04-12T22:09:43.424884Z"
    }
   }
  },
  {
   "cell_type": "code",
   "execution_count": 46,
   "outputs": [
    {
     "name": "stdout",
     "output_type": "stream",
     "text": [
      "4 5\n",
      "{'x': 4, 'y': 5}\n",
      "{'__module__': '__main__', '__doc__': '\\n   这个是我定义的类的注释\\n    ', 'setXY': <function CC.setXY at 0x00000262A71021F0>, 'printxy': <function CC.printxy at 0x00000262A71023A0>, '__dict__': <attribute '__dict__' of 'CC' objects>, '__weakref__': <attribute '__weakref__' of 'CC' objects>}\n",
      "\n",
      "   这个是我定义的类的注释\n",
      "    \n",
      "<__main__.CC object at 0x00000262A6669700>\n",
      "4 5\n"
     ]
    }
   ],
   "source": [
    "class CC:\n",
    "    \"\"\"\n",
    "   这个是我定义的类的注释\n",
    "    \"\"\"\n",
    "    def setXY(self,x,y):\n",
    "        self.x = x\n",
    "        self.y = y\n",
    "\n",
    "    def printxy(self):\n",
    "        print(self.x,self.y)\n",
    "\n",
    "\n",
    "a = CC()\n",
    "a.setXY(4,5)\n",
    "a.printxy()\n",
    "\n",
    "\n",
    "print(a.__dict__)\n",
    "print(CC.__dict__)\n",
    "\n",
    "print(CC.__doc__)\n",
    "print(CC())\n",
    "del CC\n",
    "a.printxy()"
   ],
   "metadata": {
    "collapsed": false,
    "ExecuteTime": {
     "start_time": "2023-04-12T22:20:23.110904Z",
     "end_time": "2023-04-12T22:20:23.134282Z"
    }
   }
  },
  {
   "cell_type": "code",
   "execution_count": 57,
   "outputs": [
    {
     "ename": "AttributeError",
     "evalue": "'C' object has no attribute 'size'",
     "output_type": "error",
     "traceback": [
      "\u001B[1;31m---------------------------------------------------------------------------\u001B[0m",
      "\u001B[1;31mAttributeError\u001B[0m                            Traceback (most recent call last)",
      "Input \u001B[1;32mIn [57]\u001B[0m, in \u001B[0;36m<cell line: 24>\u001B[1;34m()\u001B[0m\n\u001B[0;32m     22\u001B[0m \u001B[38;5;28;01mdel\u001B[39;00m c\u001B[38;5;241m.\u001B[39mx\n\u001B[0;32m     23\u001B[0m \u001B[38;5;66;03m# c.x\u001B[39;00m\n\u001B[1;32m---> 24\u001B[0m \u001B[43mc\u001B[49m\u001B[38;5;241;43m.\u001B[39;49m\u001B[43msize\u001B[49m\n",
      "\u001B[1;31mAttributeError\u001B[0m: 'C' object has no attribute 'size'"
     ]
    }
   ],
   "source": [
    "class C:\n",
    "    def __init__(self,size=10):\n",
    "        self.size = size\n",
    "\n",
    "    def getSize(self):\n",
    "        return self.size\n",
    "\n",
    "    def setSize(self,value):\n",
    "        self.size = value\n",
    "\n",
    "    def delSize(self):\n",
    "        del self.size\n",
    "\n",
    "    x = property(getSize,setSize,delSize)\n",
    "\n",
    "\n",
    "c = C()\n",
    "c.x\n",
    "c.x = 12\n",
    "c.x\n",
    "c.size\n",
    "del c.x\n",
    "# c.x\n",
    "c.size"
   ],
   "metadata": {
    "collapsed": false,
    "ExecuteTime": {
     "start_time": "2023-04-12T23:00:21.031395Z",
     "end_time": "2023-04-12T23:00:21.042503Z"
    }
   }
  },
  {
   "cell_type": "code",
   "execution_count": 4,
   "outputs": [
    {
     "name": "stdout",
     "output_type": "stream",
     "text": [
      "Getting age value......\n",
      "25\n",
      "setting age value ...\n",
      "Getting age value......\n",
      "30\n",
      "30\n"
     ]
    }
   ],
   "source": [
    "class Person:\n",
    "    def __init__(self,age):\n",
    "        self._age =age\n",
    "\n",
    "    @property\n",
    "    def age(self):\n",
    "        print(\"Getting age value......\")\n",
    "        return self._age\n",
    "\n",
    "    @age.setter\n",
    "    def age(self,value):\n",
    "        print(\"setting age value ...\")\n",
    "        self._age = value\n",
    "\n",
    "p =Person(25)\n",
    "print(p.age)\n",
    "p.age = 30\n",
    "print(p.age)\n",
    "print(p._age)"
   ],
   "metadata": {
    "collapsed": false,
    "ExecuteTime": {
     "start_time": "2023-04-12T23:31:07.403218Z",
     "end_time": "2023-04-12T23:31:07.409202Z"
    }
   }
  },
  {
   "cell_type": "code",
   "execution_count": 1,
   "outputs": [
    {
     "name": "stdout",
     "output_type": "stream",
     "text": [
      "32\n"
     ]
    }
   ],
   "source": [
    "print(32)"
   ],
   "metadata": {
    "collapsed": false,
    "ExecuteTime": {
     "start_time": "2023-04-12T23:22:26.613745Z",
     "end_time": "2023-04-12T23:22:26.629730Z"
    }
   }
  }
 ],
 "metadata": {
  "kernelspec": {
   "display_name": "Python 3",
   "language": "python",
   "name": "python3"
  },
  "language_info": {
   "codemirror_mode": {
    "name": "ipython",
    "version": 2
   },
   "file_extension": ".py",
   "mimetype": "text/x-python",
   "name": "python",
   "nbconvert_exporter": "python",
   "pygments_lexer": "ipython2",
   "version": "2.7.6"
  }
 },
 "nbformat": 4,
 "nbformat_minor": 0
}
